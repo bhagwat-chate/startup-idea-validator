{
 "cells": [
  {
   "cell_type": "markdown",
   "id": "76271234",
   "metadata": {},
   "source": [
    "### Single Agent with State"
   ]
  },
  {
   "cell_type": "code",
   "execution_count": null,
   "id": "654e5bb5",
   "metadata": {},
   "outputs": [],
   "source": [
    "import os\n",
    "import json\n",
    "from pydantic import BaseModel, ValidationError\n",
    "from autogen_ext.models.openai import OpenAIChatCompletionClient\n",
    "from autogen_agentchat.agents import AssistantAgent\n",
    "\n",
    "\n",
    "# 1. Define schema\n",
    "class ParsedIdeaModel(BaseModel):\n",
    "    problem: str\n",
    "    solution: str\n",
    "    domain: str\n",
    "\n",
    "class AgentState(BaseModel):\n",
    "    raw_idea: str\n",
    "    parsed_idea: ParsedIdeaModel = None\n",
    "\n",
    "# 2. Model client setup\n",
    "\n",
    "model_client = OpenAIChatCompletionClient(\n",
    "    base_url=\"https://openrouter.ai/api/v1\",\n",
    "    model=\"google/gemini-2.0-flash-001\",\n",
    "    api_key=open_router_api_key,\n",
    "    model_info={\n",
    "        \"family\": 'deepseek',\n",
    "        \"vision\": True,\n",
    "        \"function_calling\": True,\n",
    "        \"json_output\": False,\n",
    "        'structured_output': True\n",
    "    }\n",
    ")\n",
    "\n",
    "# 3. Define the agent\n",
    "agent = AssistantAgent(\n",
    "    name='IdeaParserAgent',\n",
    "    model_client=model_client,\n",
    "    description=\"You are a startup idea validation assistant\",\n",
    "    system_message=(\n",
    "        \"You are an expert at understanding startup ideas. \"\n",
    "        \"Given a raw idea, extract: (1) Problem, (2) Solution, (3) Domain. \"\n",
    "        \"Return ONLY a JSON like: { 'problem': ..., 'solution': ..., 'domain': ... }\"\n",
    "    )\n",
    ")\n",
    "\n",
    "# 4. Task\n",
    "task = \"An AI-driven platform for personalized mental health support via chatbots.\"\n",
    "result = await agent.run(task=task)\n",
    "\n",
    "# 5. Extract and parse result\n",
    "llm_response = result.messages[-1].content.strip()\n",
    "\n",
    "# Remove markdown formatting if present\n",
    "if llm_response.startswith(\"```json\"):\n",
    "    llm_response = llm_response.replace(\"```json\", \"\").replace(\"```\", \"\").strip()\n",
    "\n",
    "try:\n",
    "    parsed_dict = json.loads(llm_response)\n",
    "    parsed = ParsedIdeaModel.model_validate(parsed_dict)\n",
    "\n",
    "    # ✅ Create state instance and assign\n",
    "    state = AgentState(raw_idea=task, parsed_idea=parsed)\n",
    "\n",
    "    # ✅ Dump result\n",
    "    print(state.model_dump_json(indent=2))\n",
    "\n",
    "except (json.JSONDecodeError, ValidationError) as e:\n",
    "    print(\"❌ Validation failed:\", e)\n"
   ]
  },
  {
   "cell_type": "markdown",
   "id": "8ad9d689",
   "metadata": {},
   "source": [
    "### Multi Agent with State"
   ]
  },
  {
   "cell_type": "code",
   "execution_count": null,
   "id": "3a8d3a71",
   "metadata": {},
   "outputs": [
    {
     "name": "stdout",
     "output_type": "stream",
     "text": [
      "{'problem': 'Lack of access to affordable and personalized mental health support, leading to untreated mental health issues and suffering.', 'solution': 'An AI-powered chatbot platform that provides personalized mental health support, including screening, coping strategies, and connection to resources, available 24/7.', 'domain': 'Mental Health, Artificial Intelligence'}\n",
      "{\n",
      "  \"raw_idea\": \"An AI-driven platform for personalized mental health support via chatbots.\",\n",
      "  \"parsed_idea_model\": {\n",
      "    \"problem\": \"Lack of access to affordable and personalized mental health support, leading to untreated mental health issues and suffering.\",\n",
      "    \"solution\": \"An AI-powered chatbot platform that provides personalized mental health support, including screening, coping strategies, and connection to resources, available 24/7.\",\n",
      "    \"domain\": \"Mental Health, Artificial Intelligence\"\n",
      "  },\n",
      "  \"idea_validation_model\": null\n",
      "}\n"
     ]
    },
    {
     "name": "stderr",
     "output_type": "stream",
     "text": [
      "C:\\Users\\Bhagwat\\AppData\\Roaming\\Python\\Python312\\site-packages\\pydantic\\main.py:519: UserWarning: Pydantic serializer warnings:\n",
      "  PydanticSerializationUnexpectedValue(Expected `ParsedIdeaModel` - serialized value may not be as expected [input_value={'problem': 'Lack of acce...rtificial Intelligence'}, input_type=dict])\n",
      "  return self.__pydantic_serializer__.to_json(\n"
     ]
    }
   ],
   "source": [
    "class ParsedIdeaModel(BaseModel):\n",
    "    problem: str\n",
    "    solution: str\n",
    "    domain: str\n",
    "\n",
    "class IdeaValidationModel(BaseModel):\n",
    "    valid: bool\n",
    "    explanation: str\n",
    "\n",
    "class AgentState(BaseModel):\n",
    "    raw_idea: str\n",
    "    parsed_idea_model: ParsedIdeaModel = None\n",
    "    idea_validation_model: IdeaValidationModel = None\n",
    "\n",
    "agent_parse_idea = AssistantAgent(name=\"parse_idea\",\n",
    "                                  model_client=model_client,\n",
    "                                  system_message=(\n",
    "                                                    \"You are an expert at understanding startup ideas. \"\n",
    "                                                    \"Given a raw idea, extract: (1) Problem, (2) Solution, (3) Domain. \"\n",
    "                                                    \"Return ONLY a JSON like: { 'problem': ..., 'solution': ..., 'domain': ... }\"\n",
    "                                                )\n",
    "                                )\n",
    "\n",
    "task = \"An AI-driven platform for personalized mental health support via chatbots.\"\n",
    "\n",
    "result = await agent_parse_idea.run(task=task)\n",
    "\n",
    "idea_content = result.messages[-1].content\n",
    "if idea_content:\n",
    "    if 'json' in idea_content:\n",
    "        idea_content = idea_content.replace(\"```json\", \"\").replace(\"```\", \"\").strip()\n",
    "    \n",
    "    parsed_data_json = json.loads(idea_content)\n",
    "    state = AgentState(raw_idea=task)\n",
    "    state = state.model_copy(update={\n",
    "        \"parsed_idea_model\": parsed_data_json\n",
    "    })\n",
    "\n",
    "    print(state.model_dump_json(indent=2))"
   ]
  },
  {
   "cell_type": "code",
   "execution_count": 25,
   "id": "888f2d2e",
   "metadata": {},
   "outputs": [
    {
     "ename": "KeyError",
     "evalue": "'\\n  \"valid\"'",
     "output_type": "error",
     "traceback": [
      "\u001b[31m---------------------------------------------------------------------------\u001b[39m",
      "\u001b[31mKeyError\u001b[39m                                  Traceback (most recent call last)",
      "\u001b[36mCell\u001b[39m\u001b[36m \u001b[39m\u001b[32mIn[25]\u001b[39m\u001b[32m, line 23\u001b[39m\n\u001b[32m     20\u001b[39m parsed = state.parsed_idea_model\n\u001b[32m     22\u001b[39m \u001b[38;5;66;03m# 2. Format prompt\u001b[39;00m\n\u001b[32m---> \u001b[39m\u001b[32m23\u001b[39m task_validation = \u001b[43mvalidation_prompt\u001b[49m\u001b[43m.\u001b[49m\u001b[43mformat\u001b[49m\u001b[43m(\u001b[49m\n\u001b[32m     24\u001b[39m \u001b[43m    \u001b[49m\u001b[43mproblem\u001b[49m\u001b[43m=\u001b[49m\u001b[43mstate\u001b[49m\u001b[43m.\u001b[49m\u001b[43mparsed_idea_model\u001b[49m\u001b[43m[\u001b[49m\u001b[33;43m'\u001b[39;49m\u001b[33;43mproblem\u001b[39;49m\u001b[33;43m'\u001b[39;49m\u001b[43m]\u001b[49m\u001b[43m,\u001b[49m\n\u001b[32m     25\u001b[39m \u001b[43m    \u001b[49m\u001b[43msolution\u001b[49m\u001b[43m=\u001b[49m\u001b[43mstate\u001b[49m\u001b[43m.\u001b[49m\u001b[43mparsed_idea_model\u001b[49m\u001b[43m[\u001b[49m\u001b[33;43m'\u001b[39;49m\u001b[33;43msolution\u001b[39;49m\u001b[33;43m'\u001b[39;49m\u001b[43m]\u001b[49m\u001b[43m,\u001b[49m\n\u001b[32m     26\u001b[39m \u001b[43m    \u001b[49m\u001b[43mdomain\u001b[49m\u001b[43m=\u001b[49m\u001b[43mstate\u001b[49m\u001b[43m.\u001b[49m\u001b[43mparsed_idea_model\u001b[49m\u001b[43m[\u001b[49m\u001b[33;43m'\u001b[39;49m\u001b[33;43mdomain\u001b[39;49m\u001b[33;43m'\u001b[39;49m\u001b[43m]\u001b[49m\n\u001b[32m     27\u001b[39m \u001b[43m)\u001b[49m\n\u001b[32m     29\u001b[39m idea_validation_agent = AssistantAgent(name=\u001b[33m'\u001b[39m\u001b[33midea_validation_agent\u001b[39m\u001b[33m'\u001b[39m,\n\u001b[32m     30\u001b[39m                                        model_client=model_client,\n\u001b[32m     31\u001b[39m                                        description=\u001b[33m\"\u001b[39m\u001b[33mEvaluates whether the parsed startup idea is valid and promising\u001b[39m\u001b[33m\"\u001b[39m,\n\u001b[32m     32\u001b[39m                                        system_message=\u001b[33m\"\u001b[39m\u001b[33mYou are a startup evaluator. Return only JSON with keys: valid, explanation.\u001b[39m\u001b[33m\"\u001b[39m)\n\u001b[32m     34\u001b[39m result = \u001b[38;5;28;01mawait\u001b[39;00m idea_validation_agent.run(task=task_validation)\n",
      "\u001b[31mKeyError\u001b[39m: '\\n  \"valid\"'"
     ]
    }
   ],
   "source": [
    "validation_prompt = \"\"\"\n",
    "You are a startup idea validation expert.\n",
    "\n",
    "Given the following idea structure, validate whether the idea seems viable.\n",
    "You must analyze: (1) Is the problem significant? (2) Is the solution feasible and valuable? (3) Is the domain promising?\n",
    "\n",
    "Return a JSON like:\n",
    "{\n",
    "  \"valid\": true,\n",
    "  \"explanation\": \"Why the idea is valid or not\"\n",
    "}\n",
    "\n",
    "Here is the idea:\n",
    "Problem: {{problem}}\n",
    "Solution: {solution}\n",
    "Domain: {domain}\n",
    "\"\"\"\n",
    "\n",
    "# 1. Get parsed idea from previous step\n",
    "parsed = state.parsed_idea_model\n",
    "\n",
    "# 2. Format prompt\n",
    "task_validation = validation_prompt.format(\n",
    "    problem=state.parsed_idea_model['problem'],\n",
    "    solution=state.parsed_idea_model['solution'],\n",
    "    domain=state.parsed_idea_model['domain']\n",
    ")\n",
    "\n",
    "idea_validation_agent = AssistantAgent(name='idea_validation_agent',\n",
    "                                       model_client=model_client,\n",
    "                                       description=\"Evaluates whether the parsed startup idea is valid and promising\",\n",
    "                                       system_message=\"You are a startup evaluator. Return only JSON with keys: valid, explanation.\")\n",
    "\n",
    "result = await idea_validation_agent.run(task=task_validation)\n",
    "\n",
    "validation_content = result.messages[-1].content\n",
    "\n",
    "if validation_content:\n",
    "    if '```json' in validation_content:\n",
    "        validation_content = validation_content.replace(\"```json\",\"\").replace(\"```\", \"\").strip()\n",
    "    \n",
    "    validation_content_json = json.loads(validation_content)\n",
    "\n",
    "    state = state.model_copy(update={\n",
    "        \"idea_validation_model\": validation_content_json\n",
    "    })\n",
    "\n",
    "    print(state.model_dump_json(indent=2))"
   ]
  },
  {
   "cell_type": "code",
   "execution_count": 23,
   "id": "40d12d88",
   "metadata": {},
   "outputs": [
    {
     "data": {
      "text/plain": [
       "'Lack of access to affordable and personalized mental health support, leading to untreated mental health issues and suffering.'"
      ]
     },
     "execution_count": 23,
     "metadata": {},
     "output_type": "execute_result"
    }
   ],
   "source": [
    "parsed['problem']"
   ]
  },
  {
   "cell_type": "code",
   "execution_count": 20,
   "id": "9f2e7410",
   "metadata": {},
   "outputs": [
    {
     "data": {
      "text/plain": [
       "'Mental Health, Artificial Intelligence'"
      ]
     },
     "execution_count": 20,
     "metadata": {},
     "output_type": "execute_result"
    }
   ],
   "source": [
    "state.parsed_idea_model['domain']"
   ]
  },
  {
   "cell_type": "code",
   "execution_count": null,
   "id": "5429698c",
   "metadata": {},
   "outputs": [],
   "source": []
  }
 ],
 "metadata": {
  "kernelspec": {
   "display_name": "Python 3",
   "language": "python",
   "name": "python3"
  },
  "language_info": {
   "codemirror_mode": {
    "name": "ipython",
    "version": 3
   },
   "file_extension": ".py",
   "mimetype": "text/x-python",
   "name": "python",
   "nbconvert_exporter": "python",
   "pygments_lexer": "ipython3",
   "version": "3.12.11"
  }
 },
 "nbformat": 4,
 "nbformat_minor": 5
}
